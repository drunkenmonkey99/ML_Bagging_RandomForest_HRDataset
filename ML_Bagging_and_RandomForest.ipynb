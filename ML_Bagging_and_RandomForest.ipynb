{
 "cells": [
  {
   "cell_type": "code",
   "execution_count": 1,
   "id": "0f03617b",
   "metadata": {},
   "outputs": [],
   "source": [
    "import os \n",
    "import pandas as pd\n",
    "import numpy as np \n",
    "%matplotlib inline"
   ]
  },
  {
   "cell_type": "code",
   "execution_count": 2,
   "id": "cf597743",
   "metadata": {},
   "outputs": [],
   "source": [
    "# Define data directory \n",
    "data_dir = \"C:\\\\Users\\\\sarsadanand\\\\Desktop\\\\L&D\\\\ML\\\\ML_Ensemble_Model_Bagging_RandomForest\""
   ]
  },
  {
   "cell_type": "code",
   "execution_count": 3,
   "id": "763bc3b0",
   "metadata": {},
   "outputs": [],
   "source": [
    "# Switching to the data directory \n",
    "os.chdir(data_dir)"
   ]
  },
  {
   "cell_type": "code",
   "execution_count": 4,
   "id": "50873277",
   "metadata": {},
   "outputs": [],
   "source": [
    "# Read the data \n",
    "hr_data = pd.read_csv(\"hr.csv\")"
   ]
  },
  {
   "cell_type": "code",
   "execution_count": 5,
   "id": "ab4d2d9e",
   "metadata": {},
   "outputs": [
    {
     "data": {
      "text/html": [
       "<div>\n",
       "<style scoped>\n",
       "    .dataframe tbody tr th:only-of-type {\n",
       "        vertical-align: middle;\n",
       "    }\n",
       "\n",
       "    .dataframe tbody tr th {\n",
       "        vertical-align: top;\n",
       "    }\n",
       "\n",
       "    .dataframe thead th {\n",
       "        text-align: right;\n",
       "    }\n",
       "</style>\n",
       "<table border=\"1\" class=\"dataframe\">\n",
       "  <thead>\n",
       "    <tr style=\"text-align: right;\">\n",
       "      <th></th>\n",
       "      <th>satisfaction_level</th>\n",
       "      <th>last_evaluation</th>\n",
       "      <th>number_project</th>\n",
       "      <th>average_montly_hours</th>\n",
       "      <th>time_spend_company</th>\n",
       "      <th>Work_accident</th>\n",
       "      <th>left</th>\n",
       "      <th>promotion_last_5years</th>\n",
       "      <th>sales</th>\n",
       "      <th>salary</th>\n",
       "    </tr>\n",
       "  </thead>\n",
       "  <tbody>\n",
       "    <tr>\n",
       "      <th>0</th>\n",
       "      <td>0.38</td>\n",
       "      <td>0.53</td>\n",
       "      <td>2</td>\n",
       "      <td>157</td>\n",
       "      <td>3</td>\n",
       "      <td>0</td>\n",
       "      <td>1</td>\n",
       "      <td>0</td>\n",
       "      <td>sales</td>\n",
       "      <td>low</td>\n",
       "    </tr>\n",
       "    <tr>\n",
       "      <th>1</th>\n",
       "      <td>0.80</td>\n",
       "      <td>0.86</td>\n",
       "      <td>5</td>\n",
       "      <td>262</td>\n",
       "      <td>6</td>\n",
       "      <td>0</td>\n",
       "      <td>1</td>\n",
       "      <td>0</td>\n",
       "      <td>sales</td>\n",
       "      <td>medium</td>\n",
       "    </tr>\n",
       "    <tr>\n",
       "      <th>2</th>\n",
       "      <td>0.11</td>\n",
       "      <td>0.88</td>\n",
       "      <td>7</td>\n",
       "      <td>272</td>\n",
       "      <td>4</td>\n",
       "      <td>0</td>\n",
       "      <td>1</td>\n",
       "      <td>0</td>\n",
       "      <td>sales</td>\n",
       "      <td>medium</td>\n",
       "    </tr>\n",
       "    <tr>\n",
       "      <th>3</th>\n",
       "      <td>0.72</td>\n",
       "      <td>0.87</td>\n",
       "      <td>5</td>\n",
       "      <td>223</td>\n",
       "      <td>5</td>\n",
       "      <td>0</td>\n",
       "      <td>1</td>\n",
       "      <td>0</td>\n",
       "      <td>sales</td>\n",
       "      <td>low</td>\n",
       "    </tr>\n",
       "    <tr>\n",
       "      <th>4</th>\n",
       "      <td>0.37</td>\n",
       "      <td>0.52</td>\n",
       "      <td>2</td>\n",
       "      <td>159</td>\n",
       "      <td>3</td>\n",
       "      <td>0</td>\n",
       "      <td>1</td>\n",
       "      <td>0</td>\n",
       "      <td>sales</td>\n",
       "      <td>low</td>\n",
       "    </tr>\n",
       "  </tbody>\n",
       "</table>\n",
       "</div>"
      ],
      "text/plain": [
       "   satisfaction_level  last_evaluation  number_project  average_montly_hours  \\\n",
       "0                0.38             0.53               2                   157   \n",
       "1                0.80             0.86               5                   262   \n",
       "2                0.11             0.88               7                   272   \n",
       "3                0.72             0.87               5                   223   \n",
       "4                0.37             0.52               2                   159   \n",
       "\n",
       "   time_spend_company  Work_accident  left  promotion_last_5years  sales  \\\n",
       "0                   3              0     1                      0  sales   \n",
       "1                   6              0     1                      0  sales   \n",
       "2                   4              0     1                      0  sales   \n",
       "3                   5              0     1                      0  sales   \n",
       "4                   3              0     1                      0  sales   \n",
       "\n",
       "   salary  \n",
       "0     low  \n",
       "1  medium  \n",
       "2  medium  \n",
       "3     low  \n",
       "4     low  "
      ]
     },
     "execution_count": 5,
     "metadata": {},
     "output_type": "execute_result"
    }
   ],
   "source": [
    "hr_data.head()"
   ]
  },
  {
   "cell_type": "code",
   "execution_count": 6,
   "id": "f3bb8e36",
   "metadata": {},
   "outputs": [
    {
     "data": {
      "text/plain": [
       "2"
      ]
     },
     "execution_count": 6,
     "metadata": {},
     "output_type": "execute_result"
    }
   ],
   "source": [
    "# Unique value in the left column\n",
    "hr_data.left.nunique() # 2 unique values in this column"
   ]
  },
  {
   "cell_type": "code",
   "execution_count": 7,
   "id": "fb39ecab",
   "metadata": {},
   "outputs": [
    {
     "data": {
      "text/plain": [
       "0    11428\n",
       "1     3571\n",
       "Name: left, dtype: int64"
      ]
     },
     "execution_count": 7,
     "metadata": {},
     "output_type": "execute_result"
    }
   ],
   "source": [
    "# Check freq distribution for left column\n",
    "hr_data.left.value_counts()"
   ]
  },
  {
   "cell_type": "code",
   "execution_count": 8,
   "id": "9f313d7e",
   "metadata": {},
   "outputs": [
    {
     "data": {
      "text/plain": [
       "(14999, 10)"
      ]
     },
     "execution_count": 8,
     "metadata": {},
     "output_type": "execute_result"
    }
   ],
   "source": [
    "hr_data.shape"
   ]
  },
  {
   "cell_type": "code",
   "execution_count": 9,
   "id": "4cb0c270",
   "metadata": {},
   "outputs": [
    {
     "data": {
      "text/plain": [
       "satisfaction_level       0\n",
       "last_evaluation          0\n",
       "number_project           0\n",
       "average_montly_hours     0\n",
       "time_spend_company       0\n",
       "Work_accident            0\n",
       "left                     0\n",
       "promotion_last_5years    0\n",
       "sales                    0\n",
       "salary                   0\n",
       "dtype: int64"
      ]
     },
     "execution_count": 9,
     "metadata": {},
     "output_type": "execute_result"
    }
   ],
   "source": [
    "# Missing values in all the columns \n",
    "hr_data.isnull().sum()"
   ]
  },
  {
   "cell_type": "code",
   "execution_count": 10,
   "id": "79d28c12",
   "metadata": {},
   "outputs": [
    {
     "data": {
      "text/plain": [
       "satisfaction_level       float64\n",
       "last_evaluation          float64\n",
       "number_project             int64\n",
       "average_montly_hours       int64\n",
       "time_spend_company         int64\n",
       "Work_accident              int64\n",
       "left                       int64\n",
       "promotion_last_5years      int64\n",
       "sales                     object\n",
       "salary                    object\n",
       "dtype: object"
      ]
     },
     "execution_count": 10,
     "metadata": {},
     "output_type": "execute_result"
    }
   ],
   "source": [
    "hr_data.dtypes # To check the datatypes"
   ]
  },
  {
   "cell_type": "code",
   "execution_count": 11,
   "id": "c848ce20",
   "metadata": {},
   "outputs": [
    {
     "data": {
      "text/html": [
       "<div>\n",
       "<style scoped>\n",
       "    .dataframe tbody tr th:only-of-type {\n",
       "        vertical-align: middle;\n",
       "    }\n",
       "\n",
       "    .dataframe tbody tr th {\n",
       "        vertical-align: top;\n",
       "    }\n",
       "\n",
       "    .dataframe thead th {\n",
       "        text-align: right;\n",
       "    }\n",
       "</style>\n",
       "<table border=\"1\" class=\"dataframe\">\n",
       "  <thead>\n",
       "    <tr style=\"text-align: right;\">\n",
       "      <th></th>\n",
       "      <th>satisfaction_level</th>\n",
       "      <th>last_evaluation</th>\n",
       "      <th>number_project</th>\n",
       "      <th>average_montly_hours</th>\n",
       "      <th>time_spend_company</th>\n",
       "      <th>Work_accident</th>\n",
       "      <th>left</th>\n",
       "      <th>promotion_last_5years</th>\n",
       "      <th>sales</th>\n",
       "      <th>salary</th>\n",
       "    </tr>\n",
       "  </thead>\n",
       "  <tbody>\n",
       "    <tr>\n",
       "      <th>0</th>\n",
       "      <td>0.38</td>\n",
       "      <td>0.53</td>\n",
       "      <td>2</td>\n",
       "      <td>157</td>\n",
       "      <td>3</td>\n",
       "      <td>0</td>\n",
       "      <td>1</td>\n",
       "      <td>0</td>\n",
       "      <td>sales</td>\n",
       "      <td>low</td>\n",
       "    </tr>\n",
       "    <tr>\n",
       "      <th>1</th>\n",
       "      <td>0.80</td>\n",
       "      <td>0.86</td>\n",
       "      <td>5</td>\n",
       "      <td>262</td>\n",
       "      <td>6</td>\n",
       "      <td>0</td>\n",
       "      <td>1</td>\n",
       "      <td>0</td>\n",
       "      <td>sales</td>\n",
       "      <td>medium</td>\n",
       "    </tr>\n",
       "    <tr>\n",
       "      <th>2</th>\n",
       "      <td>0.11</td>\n",
       "      <td>0.88</td>\n",
       "      <td>7</td>\n",
       "      <td>272</td>\n",
       "      <td>4</td>\n",
       "      <td>0</td>\n",
       "      <td>1</td>\n",
       "      <td>0</td>\n",
       "      <td>sales</td>\n",
       "      <td>medium</td>\n",
       "    </tr>\n",
       "    <tr>\n",
       "      <th>3</th>\n",
       "      <td>0.72</td>\n",
       "      <td>0.87</td>\n",
       "      <td>5</td>\n",
       "      <td>223</td>\n",
       "      <td>5</td>\n",
       "      <td>0</td>\n",
       "      <td>1</td>\n",
       "      <td>0</td>\n",
       "      <td>sales</td>\n",
       "      <td>low</td>\n",
       "    </tr>\n",
       "    <tr>\n",
       "      <th>4</th>\n",
       "      <td>0.37</td>\n",
       "      <td>0.52</td>\n",
       "      <td>2</td>\n",
       "      <td>159</td>\n",
       "      <td>3</td>\n",
       "      <td>0</td>\n",
       "      <td>1</td>\n",
       "      <td>0</td>\n",
       "      <td>sales</td>\n",
       "      <td>low</td>\n",
       "    </tr>\n",
       "  </tbody>\n",
       "</table>\n",
       "</div>"
      ],
      "text/plain": [
       "   satisfaction_level  last_evaluation  number_project  average_montly_hours  \\\n",
       "0                0.38             0.53               2                   157   \n",
       "1                0.80             0.86               5                   262   \n",
       "2                0.11             0.88               7                   272   \n",
       "3                0.72             0.87               5                   223   \n",
       "4                0.37             0.52               2                   159   \n",
       "\n",
       "   time_spend_company  Work_accident  left  promotion_last_5years  sales  \\\n",
       "0                   3              0     1                      0  sales   \n",
       "1                   6              0     1                      0  sales   \n",
       "2                   4              0     1                      0  sales   \n",
       "3                   5              0     1                      0  sales   \n",
       "4                   3              0     1                      0  sales   \n",
       "\n",
       "   salary  \n",
       "0     low  \n",
       "1  medium  \n",
       "2  medium  \n",
       "3     low  \n",
       "4     low  "
      ]
     },
     "execution_count": 11,
     "metadata": {},
     "output_type": "execute_result"
    }
   ],
   "source": [
    "hr_data.head()"
   ]
  },
  {
   "cell_type": "code",
   "execution_count": 12,
   "id": "2b6f36c5",
   "metadata": {},
   "outputs": [
    {
     "data": {
      "text/plain": [
       "low       7316\n",
       "medium    6446\n",
       "high      1237\n",
       "Name: salary, dtype: int64"
      ]
     },
     "execution_count": 12,
     "metadata": {},
     "output_type": "execute_result"
    }
   ],
   "source": [
    "# Unique value counts in salary column\n",
    "hr_data.salary.value_counts()"
   ]
  },
  {
   "cell_type": "code",
   "execution_count": 13,
   "id": "a384382d",
   "metadata": {},
   "outputs": [
    {
     "data": {
      "text/plain": [
       "sales          4140\n",
       "technical      2720\n",
       "support        2229\n",
       "IT             1227\n",
       "product_mng     902\n",
       "marketing       858\n",
       "RandD           787\n",
       "accounting      767\n",
       "hr              739\n",
       "management      630\n",
       "Name: sales, dtype: int64"
      ]
     },
     "execution_count": 13,
     "metadata": {},
     "output_type": "execute_result"
    }
   ],
   "source": [
    "# Unique value counts in sales column\n",
    "hr_data.sales.value_counts()"
   ]
  },
  {
   "cell_type": "code",
   "execution_count": 14,
   "id": "79fe3a5c",
   "metadata": {},
   "outputs": [],
   "source": [
    "# Change the column name from sales to dept \n",
    "hr_data.rename(columns={'sales': 'department'}, inplace=True)"
   ]
  },
  {
   "cell_type": "code",
   "execution_count": 15,
   "id": "f8cbffaf",
   "metadata": {},
   "outputs": [
    {
     "data": {
      "text/html": [
       "<div>\n",
       "<style scoped>\n",
       "    .dataframe tbody tr th:only-of-type {\n",
       "        vertical-align: middle;\n",
       "    }\n",
       "\n",
       "    .dataframe tbody tr th {\n",
       "        vertical-align: top;\n",
       "    }\n",
       "\n",
       "    .dataframe thead th {\n",
       "        text-align: right;\n",
       "    }\n",
       "</style>\n",
       "<table border=\"1\" class=\"dataframe\">\n",
       "  <thead>\n",
       "    <tr style=\"text-align: right;\">\n",
       "      <th></th>\n",
       "      <th>satisfaction_level</th>\n",
       "      <th>last_evaluation</th>\n",
       "      <th>number_project</th>\n",
       "      <th>average_montly_hours</th>\n",
       "      <th>time_spend_company</th>\n",
       "      <th>Work_accident</th>\n",
       "      <th>left</th>\n",
       "      <th>promotion_last_5years</th>\n",
       "      <th>department</th>\n",
       "      <th>salary</th>\n",
       "    </tr>\n",
       "  </thead>\n",
       "  <tbody>\n",
       "    <tr>\n",
       "      <th>0</th>\n",
       "      <td>0.38</td>\n",
       "      <td>0.53</td>\n",
       "      <td>2</td>\n",
       "      <td>157</td>\n",
       "      <td>3</td>\n",
       "      <td>0</td>\n",
       "      <td>1</td>\n",
       "      <td>0</td>\n",
       "      <td>sales</td>\n",
       "      <td>low</td>\n",
       "    </tr>\n",
       "    <tr>\n",
       "      <th>1</th>\n",
       "      <td>0.80</td>\n",
       "      <td>0.86</td>\n",
       "      <td>5</td>\n",
       "      <td>262</td>\n",
       "      <td>6</td>\n",
       "      <td>0</td>\n",
       "      <td>1</td>\n",
       "      <td>0</td>\n",
       "      <td>sales</td>\n",
       "      <td>medium</td>\n",
       "    </tr>\n",
       "    <tr>\n",
       "      <th>2</th>\n",
       "      <td>0.11</td>\n",
       "      <td>0.88</td>\n",
       "      <td>7</td>\n",
       "      <td>272</td>\n",
       "      <td>4</td>\n",
       "      <td>0</td>\n",
       "      <td>1</td>\n",
       "      <td>0</td>\n",
       "      <td>sales</td>\n",
       "      <td>medium</td>\n",
       "    </tr>\n",
       "    <tr>\n",
       "      <th>3</th>\n",
       "      <td>0.72</td>\n",
       "      <td>0.87</td>\n",
       "      <td>5</td>\n",
       "      <td>223</td>\n",
       "      <td>5</td>\n",
       "      <td>0</td>\n",
       "      <td>1</td>\n",
       "      <td>0</td>\n",
       "      <td>sales</td>\n",
       "      <td>low</td>\n",
       "    </tr>\n",
       "    <tr>\n",
       "      <th>4</th>\n",
       "      <td>0.37</td>\n",
       "      <td>0.52</td>\n",
       "      <td>2</td>\n",
       "      <td>159</td>\n",
       "      <td>3</td>\n",
       "      <td>0</td>\n",
       "      <td>1</td>\n",
       "      <td>0</td>\n",
       "      <td>sales</td>\n",
       "      <td>low</td>\n",
       "    </tr>\n",
       "  </tbody>\n",
       "</table>\n",
       "</div>"
      ],
      "text/plain": [
       "   satisfaction_level  last_evaluation  number_project  average_montly_hours  \\\n",
       "0                0.38             0.53               2                   157   \n",
       "1                0.80             0.86               5                   262   \n",
       "2                0.11             0.88               7                   272   \n",
       "3                0.72             0.87               5                   223   \n",
       "4                0.37             0.52               2                   159   \n",
       "\n",
       "   time_spend_company  Work_accident  left  promotion_last_5years department  \\\n",
       "0                   3              0     1                      0      sales   \n",
       "1                   6              0     1                      0      sales   \n",
       "2                   4              0     1                      0      sales   \n",
       "3                   5              0     1                      0      sales   \n",
       "4                   3              0     1                      0      sales   \n",
       "\n",
       "   salary  \n",
       "0     low  \n",
       "1  medium  \n",
       "2  medium  \n",
       "3     low  \n",
       "4     low  "
      ]
     },
     "execution_count": 15,
     "metadata": {},
     "output_type": "execute_result"
    }
   ],
   "source": [
    "hr_data.head()"
   ]
  },
  {
   "cell_type": "code",
   "execution_count": 16,
   "id": "7b6e0ebb",
   "metadata": {},
   "outputs": [],
   "source": [
    "# Create the feature set (X)\n",
    "X = hr_data.drop('left', axis =1) # Dropping left column and creating X feature set"
   ]
  },
  {
   "cell_type": "code",
   "execution_count": 17,
   "id": "7ba0a936",
   "metadata": {},
   "outputs": [
    {
     "data": {
      "text/html": [
       "<div>\n",
       "<style scoped>\n",
       "    .dataframe tbody tr th:only-of-type {\n",
       "        vertical-align: middle;\n",
       "    }\n",
       "\n",
       "    .dataframe tbody tr th {\n",
       "        vertical-align: top;\n",
       "    }\n",
       "\n",
       "    .dataframe thead th {\n",
       "        text-align: right;\n",
       "    }\n",
       "</style>\n",
       "<table border=\"1\" class=\"dataframe\">\n",
       "  <thead>\n",
       "    <tr style=\"text-align: right;\">\n",
       "      <th></th>\n",
       "      <th>satisfaction_level</th>\n",
       "      <th>last_evaluation</th>\n",
       "      <th>number_project</th>\n",
       "      <th>average_montly_hours</th>\n",
       "      <th>time_spend_company</th>\n",
       "      <th>Work_accident</th>\n",
       "      <th>promotion_last_5years</th>\n",
       "      <th>department</th>\n",
       "      <th>salary</th>\n",
       "    </tr>\n",
       "  </thead>\n",
       "  <tbody>\n",
       "    <tr>\n",
       "      <th>0</th>\n",
       "      <td>0.38</td>\n",
       "      <td>0.53</td>\n",
       "      <td>2</td>\n",
       "      <td>157</td>\n",
       "      <td>3</td>\n",
       "      <td>0</td>\n",
       "      <td>0</td>\n",
       "      <td>sales</td>\n",
       "      <td>low</td>\n",
       "    </tr>\n",
       "    <tr>\n",
       "      <th>1</th>\n",
       "      <td>0.80</td>\n",
       "      <td>0.86</td>\n",
       "      <td>5</td>\n",
       "      <td>262</td>\n",
       "      <td>6</td>\n",
       "      <td>0</td>\n",
       "      <td>0</td>\n",
       "      <td>sales</td>\n",
       "      <td>medium</td>\n",
       "    </tr>\n",
       "    <tr>\n",
       "      <th>2</th>\n",
       "      <td>0.11</td>\n",
       "      <td>0.88</td>\n",
       "      <td>7</td>\n",
       "      <td>272</td>\n",
       "      <td>4</td>\n",
       "      <td>0</td>\n",
       "      <td>0</td>\n",
       "      <td>sales</td>\n",
       "      <td>medium</td>\n",
       "    </tr>\n",
       "    <tr>\n",
       "      <th>3</th>\n",
       "      <td>0.72</td>\n",
       "      <td>0.87</td>\n",
       "      <td>5</td>\n",
       "      <td>223</td>\n",
       "      <td>5</td>\n",
       "      <td>0</td>\n",
       "      <td>0</td>\n",
       "      <td>sales</td>\n",
       "      <td>low</td>\n",
       "    </tr>\n",
       "    <tr>\n",
       "      <th>4</th>\n",
       "      <td>0.37</td>\n",
       "      <td>0.52</td>\n",
       "      <td>2</td>\n",
       "      <td>159</td>\n",
       "      <td>3</td>\n",
       "      <td>0</td>\n",
       "      <td>0</td>\n",
       "      <td>sales</td>\n",
       "      <td>low</td>\n",
       "    </tr>\n",
       "  </tbody>\n",
       "</table>\n",
       "</div>"
      ],
      "text/plain": [
       "   satisfaction_level  last_evaluation  number_project  average_montly_hours  \\\n",
       "0                0.38             0.53               2                   157   \n",
       "1                0.80             0.86               5                   262   \n",
       "2                0.11             0.88               7                   272   \n",
       "3                0.72             0.87               5                   223   \n",
       "4                0.37             0.52               2                   159   \n",
       "\n",
       "   time_spend_company  Work_accident  promotion_last_5years department  salary  \n",
       "0                   3              0                      0      sales     low  \n",
       "1                   6              0                      0      sales  medium  \n",
       "2                   4              0                      0      sales  medium  \n",
       "3                   5              0                      0      sales     low  \n",
       "4                   3              0                      0      sales     low  "
      ]
     },
     "execution_count": 17,
     "metadata": {},
     "output_type": "execute_result"
    }
   ],
   "source": [
    "X.head()"
   ]
  },
  {
   "cell_type": "code",
   "execution_count": 18,
   "id": "4a486e4c",
   "metadata": {},
   "outputs": [],
   "source": [
    "# Let's create the \"y\" dataset \n",
    "y = hr_data['left']"
   ]
  },
  {
   "cell_type": "code",
   "execution_count": 19,
   "id": "454964f0",
   "metadata": {},
   "outputs": [
    {
     "data": {
      "text/plain": [
       "0    1\n",
       "1    1\n",
       "2    1\n",
       "3    1\n",
       "4    1\n",
       "Name: left, dtype: int64"
      ]
     },
     "execution_count": 19,
     "metadata": {},
     "output_type": "execute_result"
    }
   ],
   "source": [
    "y.head()"
   ]
  },
  {
   "cell_type": "code",
   "execution_count": 20,
   "id": "c24e7e16",
   "metadata": {},
   "outputs": [
    {
     "data": {
      "text/plain": [
       "pandas.core.series.Series"
      ]
     },
     "execution_count": 20,
     "metadata": {},
     "output_type": "execute_result"
    }
   ],
   "source": [
    "type(y)  # A dataframe with one column "
   ]
  },
  {
   "cell_type": "markdown",
   "id": "10303d32",
   "metadata": {},
   "source": [
    "sales                     object\n",
    "salary                    object\n",
    "From df.dtypes we can see that these are the two object type columns which need to be converted to their respective dummy variables"
   ]
  },
  {
   "cell_type": "code",
   "execution_count": 21,
   "id": "e3c2eb58",
   "metadata": {},
   "outputs": [],
   "source": [
    "# Translate the two categorical columns in their dummy representation \n",
    "X = pd.get_dummies(X)  # Will pick all the columns with type object and create dummies "
   ]
  },
  {
   "cell_type": "code",
   "execution_count": 22,
   "id": "1893c7ac",
   "metadata": {},
   "outputs": [
    {
     "data": {
      "text/html": [
       "<div>\n",
       "<style scoped>\n",
       "    .dataframe tbody tr th:only-of-type {\n",
       "        vertical-align: middle;\n",
       "    }\n",
       "\n",
       "    .dataframe tbody tr th {\n",
       "        vertical-align: top;\n",
       "    }\n",
       "\n",
       "    .dataframe thead th {\n",
       "        text-align: right;\n",
       "    }\n",
       "</style>\n",
       "<table border=\"1\" class=\"dataframe\">\n",
       "  <thead>\n",
       "    <tr style=\"text-align: right;\">\n",
       "      <th></th>\n",
       "      <th>satisfaction_level</th>\n",
       "      <th>last_evaluation</th>\n",
       "      <th>number_project</th>\n",
       "      <th>average_montly_hours</th>\n",
       "      <th>time_spend_company</th>\n",
       "      <th>Work_accident</th>\n",
       "      <th>promotion_last_5years</th>\n",
       "      <th>department_IT</th>\n",
       "      <th>department_RandD</th>\n",
       "      <th>department_accounting</th>\n",
       "      <th>department_hr</th>\n",
       "      <th>department_management</th>\n",
       "      <th>department_marketing</th>\n",
       "      <th>department_product_mng</th>\n",
       "      <th>department_sales</th>\n",
       "      <th>department_support</th>\n",
       "      <th>department_technical</th>\n",
       "      <th>salary_high</th>\n",
       "      <th>salary_low</th>\n",
       "      <th>salary_medium</th>\n",
       "    </tr>\n",
       "  </thead>\n",
       "  <tbody>\n",
       "    <tr>\n",
       "      <th>0</th>\n",
       "      <td>0.38</td>\n",
       "      <td>0.53</td>\n",
       "      <td>2</td>\n",
       "      <td>157</td>\n",
       "      <td>3</td>\n",
       "      <td>0</td>\n",
       "      <td>0</td>\n",
       "      <td>0</td>\n",
       "      <td>0</td>\n",
       "      <td>0</td>\n",
       "      <td>0</td>\n",
       "      <td>0</td>\n",
       "      <td>0</td>\n",
       "      <td>0</td>\n",
       "      <td>1</td>\n",
       "      <td>0</td>\n",
       "      <td>0</td>\n",
       "      <td>0</td>\n",
       "      <td>1</td>\n",
       "      <td>0</td>\n",
       "    </tr>\n",
       "    <tr>\n",
       "      <th>1</th>\n",
       "      <td>0.80</td>\n",
       "      <td>0.86</td>\n",
       "      <td>5</td>\n",
       "      <td>262</td>\n",
       "      <td>6</td>\n",
       "      <td>0</td>\n",
       "      <td>0</td>\n",
       "      <td>0</td>\n",
       "      <td>0</td>\n",
       "      <td>0</td>\n",
       "      <td>0</td>\n",
       "      <td>0</td>\n",
       "      <td>0</td>\n",
       "      <td>0</td>\n",
       "      <td>1</td>\n",
       "      <td>0</td>\n",
       "      <td>0</td>\n",
       "      <td>0</td>\n",
       "      <td>0</td>\n",
       "      <td>1</td>\n",
       "    </tr>\n",
       "    <tr>\n",
       "      <th>2</th>\n",
       "      <td>0.11</td>\n",
       "      <td>0.88</td>\n",
       "      <td>7</td>\n",
       "      <td>272</td>\n",
       "      <td>4</td>\n",
       "      <td>0</td>\n",
       "      <td>0</td>\n",
       "      <td>0</td>\n",
       "      <td>0</td>\n",
       "      <td>0</td>\n",
       "      <td>0</td>\n",
       "      <td>0</td>\n",
       "      <td>0</td>\n",
       "      <td>0</td>\n",
       "      <td>1</td>\n",
       "      <td>0</td>\n",
       "      <td>0</td>\n",
       "      <td>0</td>\n",
       "      <td>0</td>\n",
       "      <td>1</td>\n",
       "    </tr>\n",
       "    <tr>\n",
       "      <th>3</th>\n",
       "      <td>0.72</td>\n",
       "      <td>0.87</td>\n",
       "      <td>5</td>\n",
       "      <td>223</td>\n",
       "      <td>5</td>\n",
       "      <td>0</td>\n",
       "      <td>0</td>\n",
       "      <td>0</td>\n",
       "      <td>0</td>\n",
       "      <td>0</td>\n",
       "      <td>0</td>\n",
       "      <td>0</td>\n",
       "      <td>0</td>\n",
       "      <td>0</td>\n",
       "      <td>1</td>\n",
       "      <td>0</td>\n",
       "      <td>0</td>\n",
       "      <td>0</td>\n",
       "      <td>1</td>\n",
       "      <td>0</td>\n",
       "    </tr>\n",
       "    <tr>\n",
       "      <th>4</th>\n",
       "      <td>0.37</td>\n",
       "      <td>0.52</td>\n",
       "      <td>2</td>\n",
       "      <td>159</td>\n",
       "      <td>3</td>\n",
       "      <td>0</td>\n",
       "      <td>0</td>\n",
       "      <td>0</td>\n",
       "      <td>0</td>\n",
       "      <td>0</td>\n",
       "      <td>0</td>\n",
       "      <td>0</td>\n",
       "      <td>0</td>\n",
       "      <td>0</td>\n",
       "      <td>1</td>\n",
       "      <td>0</td>\n",
       "      <td>0</td>\n",
       "      <td>0</td>\n",
       "      <td>1</td>\n",
       "      <td>0</td>\n",
       "    </tr>\n",
       "  </tbody>\n",
       "</table>\n",
       "</div>"
      ],
      "text/plain": [
       "   satisfaction_level  last_evaluation  number_project  average_montly_hours  \\\n",
       "0                0.38             0.53               2                   157   \n",
       "1                0.80             0.86               5                   262   \n",
       "2                0.11             0.88               7                   272   \n",
       "3                0.72             0.87               5                   223   \n",
       "4                0.37             0.52               2                   159   \n",
       "\n",
       "   time_spend_company  Work_accident  promotion_last_5years  department_IT  \\\n",
       "0                   3              0                      0              0   \n",
       "1                   6              0                      0              0   \n",
       "2                   4              0                      0              0   \n",
       "3                   5              0                      0              0   \n",
       "4                   3              0                      0              0   \n",
       "\n",
       "   department_RandD  department_accounting  department_hr  \\\n",
       "0                 0                      0              0   \n",
       "1                 0                      0              0   \n",
       "2                 0                      0              0   \n",
       "3                 0                      0              0   \n",
       "4                 0                      0              0   \n",
       "\n",
       "   department_management  department_marketing  department_product_mng  \\\n",
       "0                      0                     0                       0   \n",
       "1                      0                     0                       0   \n",
       "2                      0                     0                       0   \n",
       "3                      0                     0                       0   \n",
       "4                      0                     0                       0   \n",
       "\n",
       "   department_sales  department_support  department_technical  salary_high  \\\n",
       "0                 1                   0                     0            0   \n",
       "1                 1                   0                     0            0   \n",
       "2                 1                   0                     0            0   \n",
       "3                 1                   0                     0            0   \n",
       "4                 1                   0                     0            0   \n",
       "\n",
       "   salary_low  salary_medium  \n",
       "0           1              0  \n",
       "1           0              1  \n",
       "2           0              1  \n",
       "3           1              0  \n",
       "4           1              0  "
      ]
     },
     "execution_count": 22,
     "metadata": {},
     "output_type": "execute_result"
    }
   ],
   "source": [
    "X.head()"
   ]
  },
  {
   "cell_type": "code",
   "execution_count": 23,
   "id": "58232f2a",
   "metadata": {},
   "outputs": [],
   "source": [
    "# Train and test split \n",
    "from sklearn.model_selection import train_test_split\n",
    "X_train, X_test, y_train, y_test = train_test_split(X, y, test_size=0.2, random_state=400)"
   ]
  },
  {
   "cell_type": "code",
   "execution_count": 24,
   "id": "96871d1f",
   "metadata": {},
   "outputs": [
    {
     "name": "stdout",
     "output_type": "stream",
     "text": [
      "(14999, 20)\n",
      "(14999,)\n",
      "(11999, 20)\n",
      "(11999,)\n",
      "(3000, 20)\n",
      "(3000,)\n"
     ]
    }
   ],
   "source": [
    "print(X.shape)\n",
    "print(y.shape)\n",
    "print(X_train.shape)\n",
    "print(y_train.shape)\n",
    "print(X_test.shape)\n",
    "print(y_test.shape)"
   ]
  },
  {
   "cell_type": "code",
   "execution_count": 25,
   "id": "d51c2c8d",
   "metadata": {},
   "outputs": [],
   "source": [
    "# Let's build the first ensemble model \n",
    "from sklearn.ensemble import BaggingClassifier  # What type of ensemble you want to create \n",
    "from sklearn.tree import DecisionTreeClassifier # This will be the base learner "
   ]
  },
  {
   "cell_type": "code",
   "execution_count": 26,
   "id": "0b179182",
   "metadata": {},
   "outputs": [],
   "source": [
    "# Initialize the ensemble model \n",
    "clf = BaggingClassifier(oob_score=True, n_estimators=25, random_state=300, \n",
    "                        base_estimator=DecisionTreeClassifier())\n",
    "\n",
    "# We are going to create 25 classification decision tree in this ensemble. \n",
    "# oob_score (out of bage score) = performance of respective tree on the out-of-sample data (validation/test data)"
   ]
  },
  {
   "cell_type": "code",
   "execution_count": 27,
   "id": "6d12e2c4",
   "metadata": {},
   "outputs": [
    {
     "name": "stderr",
     "output_type": "stream",
     "text": [
      "C:\\Users\\sarsadanand\\Anaconda3\\lib\\site-packages\\sklearn\\ensemble\\_bagging.py:706: UserWarning: Some inputs do not have OOB scores. This probably means too few estimators were used to compute any reliable oob estimates.\n",
      "  warn(\n",
      "C:\\Users\\sarsadanand\\Anaconda3\\lib\\site-packages\\sklearn\\ensemble\\_bagging.py:712: RuntimeWarning: invalid value encountered in true_divide\n",
      "  oob_decision_function = predictions / predictions.sum(axis=1)[:, np.newaxis]\n"
     ]
    },
    {
     "data": {
      "text/plain": [
       "BaggingClassifier(base_estimator=DecisionTreeClassifier(), n_estimators=25,\n",
       "                  oob_score=True, random_state=300)"
      ]
     },
     "execution_count": 27,
     "metadata": {},
     "output_type": "execute_result"
    }
   ],
   "source": [
    "# Let's try to put training data in the skeleton defined \n",
    "clf.fit(X_train, y_train)"
   ]
  },
  {
   "cell_type": "code",
   "execution_count": 28,
   "id": "eeab94dd",
   "metadata": {},
   "outputs": [
    {
     "data": {
      "text/plain": [
       "0.988665722143512"
      ]
     },
     "execution_count": 28,
     "metadata": {},
     "output_type": "execute_result"
    }
   ],
   "source": [
    "clf.oob_score_  \n",
    "# OOB accuracy - Average accuracy on all the out-of-sample data. or avg accuracy on 25 validation datasets( one for each tree)\n",
    "# training accuracy of ensemble with 25 decision trees. "
   ]
  },
  {
   "cell_type": "code",
   "execution_count": 29,
   "id": "d9c6613c",
   "metadata": {},
   "outputs": [
    {
     "data": {
      "text/plain": [
       "0.9876666666666667"
      ]
     },
     "execution_count": 29,
     "metadata": {},
     "output_type": "execute_result"
    }
   ],
   "source": [
    "# How to actually check the accuracy of ensemble create above. \n",
    "clf.score(X_test, y_test)"
   ]
  },
  {
   "cell_type": "code",
   "execution_count": 30,
   "id": "9666cb2d",
   "metadata": {},
   "outputs": [
    {
     "name": "stdout",
     "output_type": "stream",
     "text": [
      "Out of bage score is 0.9823318609884157\n"
     ]
    },
    {
     "name": "stderr",
     "output_type": "stream",
     "text": [
      "C:\\Users\\sarsadanand\\Anaconda3\\lib\\site-packages\\sklearn\\ensemble\\_bagging.py:706: UserWarning: Some inputs do not have OOB scores. This probably means too few estimators were used to compute any reliable oob estimates.\n",
      "  warn(\n",
      "C:\\Users\\sarsadanand\\Anaconda3\\lib\\site-packages\\sklearn\\ensemble\\_bagging.py:712: RuntimeWarning: invalid value encountered in true_divide\n",
      "  oob_decision_function = predictions / predictions.sum(axis=1)[:, np.newaxis]\n"
     ]
    }
   ],
   "source": [
    "# Trying to find out the best number of trees/estimators/base learner for the bagging model\n",
    "clf = BaggingClassifier(oob_score=True, n_estimators=10, random_state=300, \n",
    "                        base_estimator=DecisionTreeClassifier())\n",
    "clf.fit(X_train, y_train)\n",
    "oob = clf.oob_score_  \n",
    "# print(\" the number of estimators = \",)\n",
    "print(\"Out of bage score is\", str(oob))"
   ]
  },
  {
   "cell_type": "code",
   "execution_count": 31,
   "id": "7fdccc43",
   "metadata": {},
   "outputs": [
    {
     "name": "stdout",
     "output_type": "stream",
     "text": [
      "Out of bage score is 0.9878323193599466\n"
     ]
    },
    {
     "name": "stderr",
     "output_type": "stream",
     "text": [
      "C:\\Users\\sarsadanand\\Anaconda3\\lib\\site-packages\\sklearn\\ensemble\\_bagging.py:706: UserWarning: Some inputs do not have OOB scores. This probably means too few estimators were used to compute any reliable oob estimates.\n",
      "  warn(\n",
      "C:\\Users\\sarsadanand\\Anaconda3\\lib\\site-packages\\sklearn\\ensemble\\_bagging.py:712: RuntimeWarning: invalid value encountered in true_divide\n",
      "  oob_decision_function = predictions / predictions.sum(axis=1)[:, np.newaxis]\n"
     ]
    }
   ],
   "source": [
    "# Trying to find out the best number of trees/estimators/base learner for the bagging model\n",
    "clf = BaggingClassifier(oob_score=True, n_estimators=20, random_state=300, \n",
    "                        base_estimator=DecisionTreeClassifier())\n",
    "clf.fit(X_train, y_train)\n",
    "oob = clf.oob_score_  \n",
    "# print(\" the number of estimators = \",)\n",
    "print(\"Out of bage score is\", str(oob))"
   ]
  },
  {
   "cell_type": "code",
   "execution_count": 32,
   "id": "df2f0df2",
   "metadata": {},
   "outputs": [
    {
     "name": "stdout",
     "output_type": "stream",
     "text": [
      "Out of bage score is 0.9902491874322861\n"
     ]
    }
   ],
   "source": [
    "# Trying to find out the best number of trees/estimators/base learner for the bagging model\n",
    "clf = BaggingClassifier(oob_score=True, n_estimators=300, random_state=300, \n",
    "                        base_estimator=DecisionTreeClassifier())\n",
    "clf.fit(X_train, y_train)\n",
    "oob = clf.oob_score_  \n",
    "# print(\" the number of estimators = \",)\n",
    "print(\"Out of bage score is\", str(oob))"
   ]
  },
  {
   "cell_type": "code",
   "execution_count": 33,
   "id": "9b9dd764",
   "metadata": {},
   "outputs": [
    {
     "name": "stderr",
     "output_type": "stream",
     "text": [
      "C:\\Users\\sarsadanand\\Anaconda3\\lib\\site-packages\\sklearn\\ensemble\\_bagging.py:706: UserWarning: Some inputs do not have OOB scores. This probably means too few estimators were used to compute any reliable oob estimates.\n",
      "  warn(\n",
      "C:\\Users\\sarsadanand\\Anaconda3\\lib\\site-packages\\sklearn\\ensemble\\_bagging.py:712: RuntimeWarning: invalid value encountered in true_divide\n",
      "  oob_decision_function = predictions / predictions.sum(axis=1)[:, np.newaxis]\n"
     ]
    },
    {
     "name": "stdout",
     "output_type": "stream",
     "text": [
      " the number of estimators =  10\n",
      "Out of bage score is 0.9823318609884157\n",
      "----------------------------------\n",
      " the number of estimators =  30\n",
      "Out of bage score is 0.9891657638136512\n",
      "----------------------------------\n",
      " the number of estimators =  50\n",
      "Out of bage score is 0.9894991249270773\n",
      "----------------------------------\n",
      " the number of estimators =  70\n",
      "Out of bage score is 0.9895824652054338\n",
      "----------------------------------\n",
      " the number of estimators =  90\n",
      "Out of bage score is 0.9898324860405033\n",
      "----------------------------------\n",
      " the number of estimators =  110\n",
      "Out of bage score is 0.9901658471539295\n",
      "----------------------------------\n",
      " the number of estimators =  130\n",
      "Out of bage score is 0.9902491874322861\n",
      "----------------------------------\n",
      " the number of estimators =  150\n",
      "Out of bage score is 0.9904992082673556\n",
      "----------------------------------\n",
      " the number of estimators =  170\n",
      "Out of bage score is 0.9906658888240687\n",
      "----------------------------------\n",
      " the number of estimators =  190\n",
      "Out of bage score is 0.9907492291024252\n",
      "----------------------------------\n",
      " the number of estimators =  210\n",
      "Out of bage score is 0.9904992082673556\n",
      "----------------------------------\n",
      " the number of estimators =  230\n",
      "Out of bage score is 0.9905825485457121\n",
      "----------------------------------\n",
      " the number of estimators =  250\n",
      "Out of bage score is 0.990415867988999\n",
      "----------------------------------\n",
      " the number of estimators =  270\n",
      "Out of bage score is 0.9903325277106425\n",
      "----------------------------------\n",
      " the number of estimators =  290\n",
      "Out of bage score is 0.9899991665972164\n",
      "----------------------------------\n"
     ]
    }
   ],
   "source": [
    "for i in range(10,300,20):  # Try 10, 30,50, 70, 90.... 300\n",
    "    clf = BaggingClassifier(oob_score=True, n_estimators=i, random_state=300, \n",
    "                        base_estimator=DecisionTreeClassifier())\n",
    "    clf.fit(X_train, y_train)\n",
    "    oob = clf.oob_score_  \n",
    "    print(\" the number of estimators = \", str(i))\n",
    "    print(\"Out of bage score is\", str(oob))\n",
    "    print(\"----------------------------------\")\n",
    "    "
   ]
  },
  {
   "cell_type": "code",
   "execution_count": 34,
   "id": "e8765f8b",
   "metadata": {},
   "outputs": [],
   "source": [
    "# Let's build the ensemble with 190 estimators\n",
    "clf = BaggingClassifier(oob_score=True, n_estimators=190, random_state=300, \n",
    "                        base_estimator=DecisionTreeClassifier())"
   ]
  },
  {
   "cell_type": "code",
   "execution_count": 35,
   "id": "96e7be42",
   "metadata": {},
   "outputs": [],
   "source": [
    "B1 = clf.fit(X_train, y_train)"
   ]
  },
  {
   "cell_type": "code",
   "execution_count": 36,
   "id": "1c18d7b9",
   "metadata": {},
   "outputs": [
    {
     "data": {
      "text/plain": [
       "array([0, 1, 0, ..., 1, 0, 0], dtype=int64)"
      ]
     },
     "execution_count": 36,
     "metadata": {},
     "output_type": "execute_result"
    }
   ],
   "source": [
    "B1.predict(X_test)  # Predicted values on test dataset from best ensemble "
   ]
  },
  {
   "cell_type": "code",
   "execution_count": 37,
   "id": "ce7d7d4a",
   "metadata": {},
   "outputs": [
    {
     "data": {
      "text/plain": [
       "array([[2259,   12],\n",
       "       [  23,  706]], dtype=int64)"
      ]
     },
     "execution_count": 37,
     "metadata": {},
     "output_type": "execute_result"
    }
   ],
   "source": [
    "# Create confusion matrix out of this\n",
    "import sklearn.metrics as metrics\n",
    "metrics.confusion_matrix(y_test, B1.predict(X_test))"
   ]
  },
  {
   "cell_type": "code",
   "execution_count": 38,
   "id": "64e06ecb",
   "metadata": {},
   "outputs": [],
   "source": [
    "# I would be more confident in using 10s of such testing dataset and seeing the same accuracy across. "
   ]
  },
  {
   "cell_type": "code",
   "execution_count": 39,
   "id": "64696496",
   "metadata": {},
   "outputs": [
    {
     "data": {
      "text/plain": [
       "list"
      ]
     },
     "execution_count": 39,
     "metadata": {},
     "output_type": "execute_result"
    }
   ],
   "source": [
    "# Display feature importance. \n",
    "clf.estimators_\n",
    "\n",
    "type(clf.estimators_)"
   ]
  },
  {
   "cell_type": "code",
   "execution_count": 40,
   "id": "be7e7b72",
   "metadata": {},
   "outputs": [
    {
     "data": {
      "text/plain": [
       "[DecisionTreeClassifier(random_state=1640270127),\n",
       " DecisionTreeClassifier(random_state=1306260884),\n",
       " DecisionTreeClassifier(random_state=1255539751),\n",
       " DecisionTreeClassifier(random_state=934107047),\n",
       " DecisionTreeClassifier(random_state=1431551598),\n",
       " DecisionTreeClassifier(random_state=2146597940),\n",
       " DecisionTreeClassifier(random_state=522685486),\n",
       " DecisionTreeClassifier(random_state=753086597),\n",
       " DecisionTreeClassifier(random_state=304996901),\n",
       " DecisionTreeClassifier(random_state=125388421),\n",
       " DecisionTreeClassifier(random_state=225777655),\n",
       " DecisionTreeClassifier(random_state=911702132),\n",
       " DecisionTreeClassifier(random_state=1705271475),\n",
       " DecisionTreeClassifier(random_state=1855212142),\n",
       " DecisionTreeClassifier(random_state=1927410252),\n",
       " DecisionTreeClassifier(random_state=1792206370),\n",
       " DecisionTreeClassifier(random_state=2002259727),\n",
       " DecisionTreeClassifier(random_state=904180025),\n",
       " DecisionTreeClassifier(random_state=1277803413),\n",
       " DecisionTreeClassifier(random_state=2134168355),\n",
       " DecisionTreeClassifier(random_state=1817986586),\n",
       " DecisionTreeClassifier(random_state=775532702),\n",
       " DecisionTreeClassifier(random_state=885740386),\n",
       " DecisionTreeClassifier(random_state=373528865),\n",
       " DecisionTreeClassifier(random_state=2082177280),\n",
       " DecisionTreeClassifier(random_state=869088372),\n",
       " DecisionTreeClassifier(random_state=697086405),\n",
       " DecisionTreeClassifier(random_state=459546384),\n",
       " DecisionTreeClassifier(random_state=558285964),\n",
       " DecisionTreeClassifier(random_state=180634498),\n",
       " DecisionTreeClassifier(random_state=1451561841),\n",
       " DecisionTreeClassifier(random_state=1265945055),\n",
       " DecisionTreeClassifier(random_state=315322684),\n",
       " DecisionTreeClassifier(random_state=668110321),\n",
       " DecisionTreeClassifier(random_state=699543961),\n",
       " DecisionTreeClassifier(random_state=1827314207),\n",
       " DecisionTreeClassifier(random_state=881780900),\n",
       " DecisionTreeClassifier(random_state=589741380),\n",
       " DecisionTreeClassifier(random_state=364742232),\n",
       " DecisionTreeClassifier(random_state=1580407985),\n",
       " DecisionTreeClassifier(random_state=1405211377),\n",
       " DecisionTreeClassifier(random_state=877337982),\n",
       " DecisionTreeClassifier(random_state=863266535),\n",
       " DecisionTreeClassifier(random_state=1953203436),\n",
       " DecisionTreeClassifier(random_state=1292604517),\n",
       " DecisionTreeClassifier(random_state=1455764860),\n",
       " DecisionTreeClassifier(random_state=1649950871),\n",
       " DecisionTreeClassifier(random_state=1269860937),\n",
       " DecisionTreeClassifier(random_state=95297994),\n",
       " DecisionTreeClassifier(random_state=1219750752),\n",
       " DecisionTreeClassifier(random_state=1517956261),\n",
       " DecisionTreeClassifier(random_state=88372614),\n",
       " DecisionTreeClassifier(random_state=901523925),\n",
       " DecisionTreeClassifier(random_state=1023822582),\n",
       " DecisionTreeClassifier(random_state=1067010702),\n",
       " DecisionTreeClassifier(random_state=804166858),\n",
       " DecisionTreeClassifier(random_state=612588616),\n",
       " DecisionTreeClassifier(random_state=69409016),\n",
       " DecisionTreeClassifier(random_state=1353449645),\n",
       " DecisionTreeClassifier(random_state=2026041290),\n",
       " DecisionTreeClassifier(random_state=1887908123),\n",
       " DecisionTreeClassifier(random_state=1052435073),\n",
       " DecisionTreeClassifier(random_state=1560320026),\n",
       " DecisionTreeClassifier(random_state=1476443381),\n",
       " DecisionTreeClassifier(random_state=48021140),\n",
       " DecisionTreeClassifier(random_state=226455927),\n",
       " DecisionTreeClassifier(random_state=1335451485),\n",
       " DecisionTreeClassifier(random_state=220582878),\n",
       " DecisionTreeClassifier(random_state=1362894849),\n",
       " DecisionTreeClassifier(random_state=185204936),\n",
       " DecisionTreeClassifier(random_state=1592355299),\n",
       " DecisionTreeClassifier(random_state=1305495018),\n",
       " DecisionTreeClassifier(random_state=566832569),\n",
       " DecisionTreeClassifier(random_state=814482568),\n",
       " DecisionTreeClassifier(random_state=826495173),\n",
       " DecisionTreeClassifier(random_state=797432149),\n",
       " DecisionTreeClassifier(random_state=1474108254),\n",
       " DecisionTreeClassifier(random_state=1773038554),\n",
       " DecisionTreeClassifier(random_state=994085673),\n",
       " DecisionTreeClassifier(random_state=1153125607),\n",
       " DecisionTreeClassifier(random_state=1729847384),\n",
       " DecisionTreeClassifier(random_state=2129921412),\n",
       " DecisionTreeClassifier(random_state=362814133),\n",
       " DecisionTreeClassifier(random_state=1280067140),\n",
       " DecisionTreeClassifier(random_state=1128890355),\n",
       " DecisionTreeClassifier(random_state=675516318),\n",
       " DecisionTreeClassifier(random_state=1441620354),\n",
       " DecisionTreeClassifier(random_state=910985489),\n",
       " DecisionTreeClassifier(random_state=561566743),\n",
       " DecisionTreeClassifier(random_state=807267790),\n",
       " DecisionTreeClassifier(random_state=1508704935),\n",
       " DecisionTreeClassifier(random_state=799968379),\n",
       " DecisionTreeClassifier(random_state=1996224379),\n",
       " DecisionTreeClassifier(random_state=1541590708),\n",
       " DecisionTreeClassifier(random_state=872811611),\n",
       " DecisionTreeClassifier(random_state=32632252),\n",
       " DecisionTreeClassifier(random_state=341093214),\n",
       " DecisionTreeClassifier(random_state=663964467),\n",
       " DecisionTreeClassifier(random_state=689923501),\n",
       " DecisionTreeClassifier(random_state=72743301),\n",
       " DecisionTreeClassifier(random_state=1495275960),\n",
       " DecisionTreeClassifier(random_state=871086094),\n",
       " DecisionTreeClassifier(random_state=1838454264),\n",
       " DecisionTreeClassifier(random_state=643158046),\n",
       " DecisionTreeClassifier(random_state=1684855049),\n",
       " DecisionTreeClassifier(random_state=1457884437),\n",
       " DecisionTreeClassifier(random_state=172672347),\n",
       " DecisionTreeClassifier(random_state=1441008),\n",
       " DecisionTreeClassifier(random_state=1342329482),\n",
       " DecisionTreeClassifier(random_state=236022796),\n",
       " DecisionTreeClassifier(random_state=1852724188),\n",
       " DecisionTreeClassifier(random_state=321423735),\n",
       " DecisionTreeClassifier(random_state=1739223797),\n",
       " DecisionTreeClassifier(random_state=870982420),\n",
       " DecisionTreeClassifier(random_state=1940680503),\n",
       " DecisionTreeClassifier(random_state=1198578569),\n",
       " DecisionTreeClassifier(random_state=1028487515),\n",
       " DecisionTreeClassifier(random_state=52268916),\n",
       " DecisionTreeClassifier(random_state=409826357),\n",
       " DecisionTreeClassifier(random_state=15302624),\n",
       " DecisionTreeClassifier(random_state=49598622),\n",
       " DecisionTreeClassifier(random_state=2131285023),\n",
       " DecisionTreeClassifier(random_state=2034632325),\n",
       " DecisionTreeClassifier(random_state=294753603),\n",
       " DecisionTreeClassifier(random_state=855976296),\n",
       " DecisionTreeClassifier(random_state=849702056),\n",
       " DecisionTreeClassifier(random_state=2022180052),\n",
       " DecisionTreeClassifier(random_state=462018195),\n",
       " DecisionTreeClassifier(random_state=1685604809),\n",
       " DecisionTreeClassifier(random_state=1489876087),\n",
       " DecisionTreeClassifier(random_state=130092564),\n",
       " DecisionTreeClassifier(random_state=374111567),\n",
       " DecisionTreeClassifier(random_state=1438643563),\n",
       " DecisionTreeClassifier(random_state=1057481243),\n",
       " DecisionTreeClassifier(random_state=2100205953),\n",
       " DecisionTreeClassifier(random_state=1150481590),\n",
       " DecisionTreeClassifier(random_state=917661234),\n",
       " DecisionTreeClassifier(random_state=1516892997),\n",
       " DecisionTreeClassifier(random_state=598274269),\n",
       " DecisionTreeClassifier(random_state=1483458371),\n",
       " DecisionTreeClassifier(random_state=44140514),\n",
       " DecisionTreeClassifier(random_state=1276086255),\n",
       " DecisionTreeClassifier(random_state=566293181),\n",
       " DecisionTreeClassifier(random_state=1111709505),\n",
       " DecisionTreeClassifier(random_state=901994024),\n",
       " DecisionTreeClassifier(random_state=1999620618),\n",
       " DecisionTreeClassifier(random_state=1097588721),\n",
       " DecisionTreeClassifier(random_state=2129572215),\n",
       " DecisionTreeClassifier(random_state=1733746148),\n",
       " DecisionTreeClassifier(random_state=71145064),\n",
       " DecisionTreeClassifier(random_state=416860997),\n",
       " DecisionTreeClassifier(random_state=949708489),\n",
       " DecisionTreeClassifier(random_state=1872600999),\n",
       " DecisionTreeClassifier(random_state=892154899),\n",
       " DecisionTreeClassifier(random_state=731348865),\n",
       " DecisionTreeClassifier(random_state=163259148),\n",
       " DecisionTreeClassifier(random_state=1829619808),\n",
       " DecisionTreeClassifier(random_state=1666813642),\n",
       " DecisionTreeClassifier(random_state=1452698068),\n",
       " DecisionTreeClassifier(random_state=1341054059),\n",
       " DecisionTreeClassifier(random_state=1093151673),\n",
       " DecisionTreeClassifier(random_state=323801922),\n",
       " DecisionTreeClassifier(random_state=980886600),\n",
       " DecisionTreeClassifier(random_state=741080578),\n",
       " DecisionTreeClassifier(random_state=1323248287),\n",
       " DecisionTreeClassifier(random_state=1630118527),\n",
       " DecisionTreeClassifier(random_state=1283792121),\n",
       " DecisionTreeClassifier(random_state=1220089499),\n",
       " DecisionTreeClassifier(random_state=1739218348),\n",
       " DecisionTreeClassifier(random_state=982227028),\n",
       " DecisionTreeClassifier(random_state=1983167773),\n",
       " DecisionTreeClassifier(random_state=891002876),\n",
       " DecisionTreeClassifier(random_state=1017956315),\n",
       " DecisionTreeClassifier(random_state=453673383),\n",
       " DecisionTreeClassifier(random_state=653823833),\n",
       " DecisionTreeClassifier(random_state=948509874),\n",
       " DecisionTreeClassifier(random_state=600010214),\n",
       " DecisionTreeClassifier(random_state=1537748749),\n",
       " DecisionTreeClassifier(random_state=1857190417),\n",
       " DecisionTreeClassifier(random_state=1073374975),\n",
       " DecisionTreeClassifier(random_state=32907632),\n",
       " DecisionTreeClassifier(random_state=344260579),\n",
       " DecisionTreeClassifier(random_state=919503659),\n",
       " DecisionTreeClassifier(random_state=1943414838),\n",
       " DecisionTreeClassifier(random_state=1562396365),\n",
       " DecisionTreeClassifier(random_state=1877198891),\n",
       " DecisionTreeClassifier(random_state=885621633),\n",
       " DecisionTreeClassifier(random_state=44763401),\n",
       " DecisionTreeClassifier(random_state=2062123626),\n",
       " DecisionTreeClassifier(random_state=1189594305)]"
      ]
     },
     "execution_count": 40,
     "metadata": {},
     "output_type": "execute_result"
    }
   ],
   "source": [
    "clf.estimators_ # these are the 190 trees used, clf.estimators_[0] will give the first decission tree"
   ]
  },
  {
   "cell_type": "code",
   "execution_count": 41,
   "id": "d4b9516c",
   "metadata": {},
   "outputs": [
    {
     "data": {
      "text/plain": [
       "190"
      ]
     },
     "execution_count": 41,
     "metadata": {},
     "output_type": "execute_result"
    }
   ],
   "source": [
    "len(clf.estimators_)  # These are 190 trees we build "
   ]
  },
  {
   "cell_type": "code",
   "execution_count": 42,
   "id": "3f3be717",
   "metadata": {},
   "outputs": [
    {
     "data": {
      "text/plain": [
       "Index(['satisfaction_level', 'last_evaluation', 'number_project',\n",
       "       'average_montly_hours', 'time_spend_company', 'Work_accident',\n",
       "       'promotion_last_5years', 'department_IT', 'department_RandD',\n",
       "       'department_accounting', 'department_hr', 'department_management',\n",
       "       'department_marketing', 'department_product_mng', 'department_sales',\n",
       "       'department_support', 'department_technical', 'salary_high',\n",
       "       'salary_low', 'salary_medium'],\n",
       "      dtype='object')"
      ]
     },
     "execution_count": 42,
     "metadata": {},
     "output_type": "execute_result"
    }
   ],
   "source": [
    "X.columns"
   ]
  },
  {
   "cell_type": "code",
   "execution_count": 43,
   "id": "1456f9b9",
   "metadata": {},
   "outputs": [
    {
     "data": {
      "text/plain": [
       "array([5.28214657e-01, 1.42301857e-01, 1.04466580e-01, 7.98603725e-02,\n",
       "       1.23041370e-01, 1.13842336e-03, 3.05682450e-04, 1.53054770e-03,\n",
       "       2.83501511e-03, 5.94148689e-04, 2.10300304e-04, 8.85985183e-04,\n",
       "       7.17214447e-04, 9.87558963e-04, 2.37285988e-03, 2.09368585e-03,\n",
       "       3.50557318e-03, 7.02252796e-04, 2.26704780e-03, 1.96886745e-03])"
      ]
     },
     "execution_count": 43,
     "metadata": {},
     "output_type": "execute_result"
    }
   ],
   "source": [
    "# Look at the first tree of ensemble \n",
    "clf.estimators_[0].feature_importances_  # gives importance of all the features in first tree"
   ]
  },
  {
   "cell_type": "code",
   "execution_count": 44,
   "id": "bee5f311",
   "metadata": {},
   "outputs": [
    {
     "data": {
      "text/plain": [
       "array([4.97109574e-01, 1.11305704e-01, 1.10786674e-01, 9.80344679e-02,\n",
       "       1.59656351e-01, 1.58014649e-03, 7.35782741e-04, 1.28284889e-03,\n",
       "       6.46208955e-05, 3.70809339e-03, 5.15454385e-04, 4.06710941e-04,\n",
       "       5.09182961e-04, 0.00000000e+00, 2.68872545e-03, 2.93089756e-03,\n",
       "       2.92709769e-03, 9.36995938e-04, 2.49812403e-03, 2.32254760e-03])"
      ]
     },
     "execution_count": 44,
     "metadata": {},
     "output_type": "execute_result"
    }
   ],
   "source": [
    "# Look at the 190th tree of ensemble \n",
    "clf.estimators_[189].feature_importances_"
   ]
  },
  {
   "cell_type": "code",
   "execution_count": 45,
   "id": "9b372a97",
   "metadata": {},
   "outputs": [
    {
     "name": "stdout",
     "output_type": "stream",
     "text": [
      "satisfaction_level        0.497110\n",
      "last_evaluation           0.111306\n",
      "number_project            0.110787\n",
      "average_montly_hours      0.098034\n",
      "time_spend_company        0.159656\n",
      "Work_accident             0.001580\n",
      "promotion_last_5years     0.000736\n",
      "department_IT             0.001283\n",
      "department_RandD          0.000065\n",
      "department_accounting     0.003708\n",
      "department_hr             0.000515\n",
      "department_management     0.000407\n",
      "department_marketing      0.000509\n",
      "department_product_mng    0.000000\n",
      "department_sales          0.002689\n",
      "department_support        0.002931\n",
      "department_technical      0.002927\n",
      "salary_high               0.000937\n",
      "salary_low                0.002498\n",
      "salary_medium             0.002323\n",
      "dtype: float64\n"
     ]
    }
   ],
   "source": [
    "imp = clf.estimators_[189].feature_importances_\n",
    "# To print colname and feature importance\n",
    "FI = pd.Series(imp, index = X.columns.tolist())\n",
    "print(FI)"
   ]
  },
  {
   "cell_type": "code",
   "execution_count": 46,
   "id": "ba98d42f",
   "metadata": {},
   "outputs": [],
   "source": [
    "# To find out average importance of individual feature\n",
    "imp = []\n",
    "for i in clf.estimators_:\n",
    "    imp.append(i.feature_importances_)\n",
    "    \n",
    "imp = np.mean(imp, axis = 0)"
   ]
  },
  {
   "cell_type": "code",
   "execution_count": 47,
   "id": "f8c65f2a",
   "metadata": {},
   "outputs": [
    {
     "data": {
      "text/plain": [
       "array([4.96306795e-01, 1.37711277e-01, 1.08983634e-01, 9.72832676e-02,\n",
       "       1.37125060e-01, 1.74087988e-03, 1.52619635e-04, 1.41008456e-03,\n",
       "       6.89547307e-04, 1.43034196e-03, 5.78418887e-04, 5.20689480e-04,\n",
       "       7.71209089e-04, 6.40428556e-04, 2.77081436e-03, 2.62242138e-03,\n",
       "       3.11044774e-03, 9.84399129e-04, 3.12008538e-03, 2.04757989e-03])"
      ]
     },
     "execution_count": 47,
     "metadata": {},
     "output_type": "execute_result"
    }
   ],
   "source": [
    "imp"
   ]
  },
  {
   "cell_type": "code",
   "execution_count": 48,
   "id": "fda5e94c",
   "metadata": {},
   "outputs": [
    {
     "name": "stdout",
     "output_type": "stream",
     "text": [
      "satisfaction_level        0.496307\n",
      "last_evaluation           0.137711\n",
      "number_project            0.108984\n",
      "average_montly_hours      0.097283\n",
      "time_spend_company        0.137125\n",
      "Work_accident             0.001741\n",
      "promotion_last_5years     0.000153\n",
      "department_IT             0.001410\n",
      "department_RandD          0.000690\n",
      "department_accounting     0.001430\n",
      "department_hr             0.000578\n",
      "department_management     0.000521\n",
      "department_marketing      0.000771\n",
      "department_product_mng    0.000640\n",
      "department_sales          0.002771\n",
      "department_support        0.002622\n",
      "department_technical      0.003110\n",
      "salary_high               0.000984\n",
      "salary_low                0.003120\n",
      "salary_medium             0.002048\n",
      "dtype: float64\n"
     ]
    }
   ],
   "source": [
    "FI = pd.Series(imp, index = X.columns.tolist())\n",
    "print(FI)"
   ]
  },
  {
   "cell_type": "markdown",
   "id": "5b51a7b0",
   "metadata": {},
   "source": [
    "Note: \n",
    "%matplotlib inline: With this backend, the output of plotting commands is displayed inline within frontends like the Jupyter notebook, directly below the code cell that produced it. The resulting plots will then also be stored in the notebook document."
   ]
  },
  {
   "cell_type": "code",
   "execution_count": 49,
   "id": "a582d9b2",
   "metadata": {},
   "outputs": [
    {
     "data": {
      "text/plain": [
       "<AxesSubplot:>"
      ]
     },
     "execution_count": 49,
     "metadata": {},
     "output_type": "execute_result"
    },
    {
     "data": {
      "image/png": "[encoded data removed]",
      "text/plain": [
       "<Figure size 432x288 with 1 Axes>"
      ]
     },
     "metadata": {
      "needs_background": "light"
     },
     "output_type": "display_data"
    }
   ],
   "source": [
    "%matplotlib inline\n",
    "FI.sort_values(ascending=False).plot(kind='bar')"
   ]
  },
  {
   "cell_type": "markdown",
   "id": "a2dc85cc",
   "metadata": {},
   "source": [
    "- From above we can see that the maximum split out of the 190 trees is happening for satisfaction_level feature"
   ]
  },
  {
   "cell_type": "markdown",
   "id": "7f691758",
   "metadata": {},
   "source": [
    "## Random Forest Classifier for same data set"
   ]
  },
  {
   "cell_type": "code",
   "execution_count": 50,
   "id": "0cc36b53",
   "metadata": {},
   "outputs": [],
   "source": [
    "from sklearn.ensemble import RandomForestClassifier"
   ]
  },
  {
   "cell_type": "code",
   "execution_count": 51,
   "id": "d83dbb5c",
   "metadata": {},
   "outputs": [],
   "source": [
    "clf_rf = RandomForestClassifier(oob_score=True, n_estimators=50, random_state=300)"
   ]
  },
  {
   "cell_type": "code",
   "execution_count": 52,
   "id": "1294fff7",
   "metadata": {},
   "outputs": [
    {
     "data": {
      "text/plain": [
       "RandomForestClassifier(n_estimators=50, oob_score=True, random_state=300)"
      ]
     },
     "execution_count": 52,
     "metadata": {},
     "output_type": "execute_result"
    }
   ],
   "source": [
    "clf_rf.fit(X_train, y_train)"
   ]
  },
  {
   "cell_type": "code",
   "execution_count": 53,
   "id": "18101365",
   "metadata": {},
   "outputs": [
    {
     "data": {
      "text/plain": [
       "0.9894991249270773"
      ]
     },
     "execution_count": 53,
     "metadata": {},
     "output_type": "execute_result"
    }
   ],
   "source": [
    "clf_rf.oob_score_\n",
    "# Average OOB accuracy of random forest classifier accross the 50 trees"
   ]
  },
  {
   "cell_type": "code",
   "execution_count": 54,
   "id": "38e069c7",
   "metadata": {},
   "outputs": [
    {
     "name": "stderr",
     "output_type": "stream",
     "text": [
      "C:\\Users\\sarsadanand\\Anaconda3\\lib\\site-packages\\sklearn\\ensemble\\_forest.py:560: UserWarning: Some inputs do not have OOB scores. This probably means too few trees were used to compute any reliable OOB estimates.\n",
      "  warn(\n"
     ]
    },
    {
     "name": "stdout",
     "output_type": "stream",
     "text": [
      " the number of estimators =  10\n",
      "Out of bage score is 0.9805817151429286\n",
      "----------------------------------\n",
      " the number of estimators =  30\n",
      "Out of bage score is 0.9894157846487207\n",
      "----------------------------------\n",
      " the number of estimators =  50\n",
      "Out of bage score is 0.9894991249270773\n",
      "----------------------------------\n",
      " the number of estimators =  70\n",
      "Out of bage score is 0.9902491874322861\n",
      "----------------------------------\n",
      " the number of estimators =  90\n",
      "Out of bage score is 0.9905825485457121\n",
      "----------------------------------\n",
      " the number of estimators =  110\n",
      "Out of bage score is 0.9904992082673556\n",
      "----------------------------------\n",
      " the number of estimators =  130\n",
      "Out of bage score is 0.9907492291024252\n",
      "----------------------------------\n",
      " the number of estimators =  150\n",
      "Out of bage score is 0.9907492291024252\n",
      "----------------------------------\n",
      " the number of estimators =  170\n",
      "Out of bage score is 0.9905825485457121\n",
      "----------------------------------\n",
      " the number of estimators =  190\n",
      "Out of bage score is 0.9907492291024252\n",
      "----------------------------------\n",
      " the number of estimators =  210\n",
      "Out of bage score is 0.9909159096591382\n",
      "----------------------------------\n",
      " the number of estimators =  230\n",
      "Out of bage score is 0.9909159096591382\n",
      "----------------------------------\n",
      " the number of estimators =  250\n",
      "Out of bage score is 0.9908325693807817\n",
      "----------------------------------\n",
      " the number of estimators =  270\n",
      "Out of bage score is 0.9905825485457121\n",
      "----------------------------------\n",
      " the number of estimators =  290\n",
      "Out of bage score is 0.9909159096591382\n",
      "----------------------------------\n",
      " the number of estimators =  310\n",
      "Out of bage score is 0.9909992499374948\n",
      "----------------------------------\n",
      " the number of estimators =  330\n",
      "Out of bage score is 0.9911659304942079\n",
      "----------------------------------\n",
      " the number of estimators =  350\n",
      "Out of bage score is 0.9910825902158513\n",
      "----------------------------------\n",
      " the number of estimators =  370\n",
      "Out of bage score is 0.9910825902158513\n",
      "----------------------------------\n",
      " the number of estimators =  390\n",
      "Out of bage score is 0.9910825902158513\n",
      "----------------------------------\n",
      " the number of estimators =  410\n",
      "Out of bage score is 0.9909992499374948\n",
      "----------------------------------\n",
      " the number of estimators =  430\n",
      "Out of bage score is 0.9911659304942079\n",
      "----------------------------------\n",
      " the number of estimators =  450\n",
      "Out of bage score is 0.9909992499374948\n",
      "----------------------------------\n",
      " the number of estimators =  470\n",
      "Out of bage score is 0.9909992499374948\n",
      "----------------------------------\n",
      " the number of estimators =  490\n",
      "Out of bage score is 0.9909992499374948\n",
      "----------------------------------\n"
     ]
    }
   ],
   "source": [
    "for i in range(10,500,20):  # Try 10, 30,50, 70, 90.... 300\n",
    "    clf = RandomForestClassifier(oob_score=True, n_estimators=i, random_state=300)\n",
    "    clf.fit(X_train, y_train)\n",
    "    oob = clf.oob_score_  \n",
    "    print(\" the number of estimators = \", str(i))\n",
    "    print(\"Out of bage score is\", str(oob))\n",
    "    print(\"----------------------------------\")\n",
    "    "
   ]
  },
  {
   "cell_type": "code",
   "execution_count": 60,
   "id": "3ed5a628",
   "metadata": {},
   "outputs": [
    {
     "name": "stdout",
     "output_type": "stream",
     "text": [
      "0.9905825485457121\n"
     ]
    }
   ],
   "source": [
    "# we would need to keep the estimators minimal, \n",
    "# for a marginal increase in oob score it is not recommended to increase the estimators\n",
    "clf = RandomForestClassifier(oob_score=True, n_estimators=90, random_state=300)\n",
    "clf.fit(X_train, y_train)\n",
    "oob = clf.oob_score_  \n",
    "print(oob)"
   ]
  },
  {
   "cell_type": "code",
   "execution_count": 61,
   "id": "94a5946f",
   "metadata": {},
   "outputs": [
    {
     "data": {
      "text/plain": [
       "array([0.32074926, 0.11871557, 0.18853896, 0.14476232, 0.18142102,\n",
       "       0.00914808, 0.00179136, 0.00187148, 0.00141902, 0.00166392,\n",
       "       0.00141975, 0.00173597, 0.00112938, 0.00123875, 0.00349149,\n",
       "       0.00295108, 0.0036715 , 0.0047913 , 0.0060261 , 0.00346367])"
      ]
     },
     "execution_count": 61,
     "metadata": {},
     "output_type": "execute_result"
    }
   ],
   "source": [
    "clf.feature_importances_"
   ]
  },
  {
   "cell_type": "code",
   "execution_count": 62,
   "id": "01544638",
   "metadata": {},
   "outputs": [
    {
     "name": "stdout",
     "output_type": "stream",
     "text": [
      "satisfaction_level        0.320749\n",
      "last_evaluation           0.118716\n",
      "number_project            0.188539\n",
      "average_montly_hours      0.144762\n",
      "time_spend_company        0.181421\n",
      "Work_accident             0.009148\n",
      "promotion_last_5years     0.001791\n",
      "department_IT             0.001871\n",
      "department_RandD          0.001419\n",
      "department_accounting     0.001664\n",
      "department_hr             0.001420\n",
      "department_management     0.001736\n",
      "department_marketing      0.001129\n",
      "department_product_mng    0.001239\n",
      "department_sales          0.003491\n",
      "department_support        0.002951\n",
      "department_technical      0.003671\n",
      "salary_high               0.004791\n",
      "salary_low                0.006026\n",
      "salary_medium             0.003464\n",
      "dtype: float64\n"
     ]
    }
   ],
   "source": [
    "imp = []\n",
    "for i in clf.estimators_:\n",
    "    imp.append(i.feature_importances_)\n",
    "imp = np.mean(imp, axis = 0)\n",
    "\n",
    "FI = pd.Series(imp, index = X.columns.tolist())\n",
    "print(FI)"
   ]
  },
  {
   "cell_type": "code",
   "execution_count": 63,
   "id": "db26eb54",
   "metadata": {},
   "outputs": [
    {
     "data": {
      "text/plain": [
       "<AxesSubplot:>"
      ]
     },
     "execution_count": 63,
     "metadata": {},
     "output_type": "execute_result"
    },
    {
     "data": {
      "image/png": "[encoded data removed]",
      "text/plain": [
       "<Figure size 432x288 with 1 Axes>"
      ]
     },
     "metadata": {
      "needs_background": "light"
     },
     "output_type": "display_data"
    }
   ],
   "source": [
    "%matplotlib inline\n",
    "FI.sort_values(ascending=False).plot(kind='bar')"
   ]
  },
  {
   "cell_type": "code",
   "execution_count": 64,
   "id": "2c028207",
   "metadata": {},
   "outputs": [],
   "source": [
    "############# End ###############"
   ]
  }
 ],
 "metadata": {
  "kernelspec": {
   "display_name": "Python 3 (ipykernel)",
   "language": "python",
   "name": "python3"
  },
  "language_info": {
   "codemirror_mode": {
    "name": "ipython",
    "version": 3
   },
   "file_extension": ".py",
   "mimetype": "text/x-python",
   "name": "python",
   "nbconvert_exporter": "python",
   "pygments_lexer": "ipython3",
   "version": "3.9.12"
  }
 },
 "nbformat": 4,
 "nbformat_minor": 5
}
